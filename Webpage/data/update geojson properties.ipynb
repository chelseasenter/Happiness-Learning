{
 "cells": [
  {
   "cell_type": "code",
   "execution_count": 7,
   "metadata": {},
   "outputs": [],
   "source": [
    "import json\n",
    "import pandas as pd"
   ]
  },
  {
   "cell_type": "code",
   "execution_count": 8,
   "metadata": {},
   "outputs": [],
   "source": [
    "# load geojson\n",
    "\n",
    "with open('countries.geojson') as f:\n",
    "    data = json.load(f)"
   ]
  },
  {
   "cell_type": "code",
   "execution_count": 9,
   "metadata": {},
   "outputs": [],
   "source": [
    "# load happiness data\n",
    "\n",
    "df = pd.read_csv('../../../Clean Data/happinessData.csv')\n",
    "\n",
    "# look at happiness data in 2021 only\n",
    "world_data = df.loc[df['year'] == 2021]\n",
    "\n",
    "# Create list of all countries in happiness_data\n",
    "hap_countries = world_data['country'].values.tolist()"
   ]
  },
  {
   "cell_type": "code",
   "execution_count": 10,
   "metadata": {},
   "outputs": [
    {
     "data": {
      "text/html": [
       "<div>\n",
       "<style scoped>\n",
       "    .dataframe tbody tr th:only-of-type {\n",
       "        vertical-align: middle;\n",
       "    }\n",
       "\n",
       "    .dataframe tbody tr th {\n",
       "        vertical-align: top;\n",
       "    }\n",
       "\n",
       "    .dataframe thead th {\n",
       "        text-align: right;\n",
       "    }\n",
       "</style>\n",
       "<table border=\"1\" class=\"dataframe\">\n",
       "  <thead>\n",
       "    <tr style=\"text-align: right;\">\n",
       "      <th></th>\n",
       "      <th>country</th>\n",
       "      <th>happiness_rank</th>\n",
       "      <th>happiness_score</th>\n",
       "      <th>economy_gdp_per_capita</th>\n",
       "      <th>health_life_expectancy</th>\n",
       "      <th>freedom</th>\n",
       "      <th>trust_government_corruption</th>\n",
       "      <th>generosity</th>\n",
       "      <th>year</th>\n",
       "    </tr>\n",
       "  </thead>\n",
       "  <tbody>\n",
       "    <tr>\n",
       "      <th>934</th>\n",
       "      <td>Finland</td>\n",
       "      <td>1</td>\n",
       "      <td>7.842</td>\n",
       "      <td>10.775</td>\n",
       "      <td>0.826058</td>\n",
       "      <td>0.949</td>\n",
       "      <td>0.186</td>\n",
       "      <td>-0.098</td>\n",
       "      <td>2021</td>\n",
       "    </tr>\n",
       "    <tr>\n",
       "      <th>935</th>\n",
       "      <td>Denmark</td>\n",
       "      <td>2</td>\n",
       "      <td>7.620</td>\n",
       "      <td>10.933</td>\n",
       "      <td>0.850641</td>\n",
       "      <td>0.946</td>\n",
       "      <td>0.179</td>\n",
       "      <td>0.030</td>\n",
       "      <td>2021</td>\n",
       "    </tr>\n",
       "    <tr>\n",
       "      <th>936</th>\n",
       "      <td>Switzerland</td>\n",
       "      <td>3</td>\n",
       "      <td>7.571</td>\n",
       "      <td>11.117</td>\n",
       "      <td>0.910342</td>\n",
       "      <td>0.919</td>\n",
       "      <td>0.292</td>\n",
       "      <td>0.025</td>\n",
       "      <td>2021</td>\n",
       "    </tr>\n",
       "    <tr>\n",
       "      <th>937</th>\n",
       "      <td>Iceland</td>\n",
       "      <td>4</td>\n",
       "      <td>7.554</td>\n",
       "      <td>10.878</td>\n",
       "      <td>0.861176</td>\n",
       "      <td>0.955</td>\n",
       "      <td>0.673</td>\n",
       "      <td>0.160</td>\n",
       "      <td>2021</td>\n",
       "    </tr>\n",
       "    <tr>\n",
       "      <th>938</th>\n",
       "      <td>Netherlands</td>\n",
       "      <td>5</td>\n",
       "      <td>7.464</td>\n",
       "      <td>10.932</td>\n",
       "      <td>0.840105</td>\n",
       "      <td>0.913</td>\n",
       "      <td>0.338</td>\n",
       "      <td>0.175</td>\n",
       "      <td>2021</td>\n",
       "    </tr>\n",
       "  </tbody>\n",
       "</table>\n",
       "</div>"
      ],
      "text/plain": [
       "         country  happiness_rank  happiness_score  economy_gdp_per_capita  \\\n",
       "934      Finland               1            7.842                  10.775   \n",
       "935      Denmark               2            7.620                  10.933   \n",
       "936  Switzerland               3            7.571                  11.117   \n",
       "937      Iceland               4            7.554                  10.878   \n",
       "938  Netherlands               5            7.464                  10.932   \n",
       "\n",
       "     health_life_expectancy  freedom  trust_government_corruption  generosity  \\\n",
       "934                0.826058    0.949                        0.186      -0.098   \n",
       "935                0.850641    0.946                        0.179       0.030   \n",
       "936                0.910342    0.919                        0.292       0.025   \n",
       "937                0.861176    0.955                        0.673       0.160   \n",
       "938                0.840105    0.913                        0.338       0.175   \n",
       "\n",
       "     year  \n",
       "934  2021  \n",
       "935  2021  \n",
       "936  2021  \n",
       "937  2021  \n",
       "938  2021  "
      ]
     },
     "execution_count": 10,
     "metadata": {},
     "output_type": "execute_result"
    }
   ],
   "source": [
    "yeardf.head()"
   ]
  },
  {
   "cell_type": "code",
   "execution_count": 11,
   "metadata": {},
   "outputs": [],
   "source": [
    "index = 0\n",
    "\n",
    "for i in range(len(data['features'])):\n",
    "        \n",
    "    country = data['features'][i]['properties']['ADMIN']\n",
    "    \n",
    "    if country in hap_countries:\n",
    "        \n",
    "        #add happiness_score\n",
    "        hapScore = str(world_data['happiness_score'].loc[world_data['country'] == country])\n",
    "        hap = hapScore.split()\n",
    "        score = hap[1]\n",
    "\n",
    "        data['features'][i]['properties']['happiness_score'] = float(score)\n",
    "        \n",
    "        #add happiness_rank\n",
    "        hapRank = str(world_data['happiness_rank'].loc[world_data['country'] == country])\n",
    "        hapr = hapRank.split()\n",
    "        rank = hapr[1]\n",
    "        \n",
    "        data['features'][i]['properties']['happiness_rank'] = float(rank)\n",
    "        \n",
    "        #add economy_gdp_per_capita\n",
    "        GDP = str(world_data['economy_gdp_per_capita'].loc[world_data['country'] == country])\n",
    "        gdp = GDP.split()\n",
    "        val = gdp[1]\n",
    "        \n",
    "        data['features'][i]['properties']['economy_gdp_per_capita'] = float(val)\n",
    "        \n",
    "        #add health_life_expectancy\n",
    "        HLE = str(world_data['health_life_expectancy'].loc[world_data['country'] == country])\n",
    "        hle = HLE.split()\n",
    "        st = hle[1]\n",
    "        \n",
    "        data['features'][i]['properties']['health_life_expectancy'] = float(st)\n",
    "        \n",
    "        \n",
    "        #add freedom\n",
    "        freedom = str(world_data['freedom'].loc[world_data['country'] == country])\n",
    "        freed = freedom.split()\n",
    "        free = freed[1]\n",
    "        \n",
    "        data['features'][i]['properties']['freedom'] = float(free)\n",
    "        \n",
    "        \n",
    "        #add trust_government_corruption\n",
    "        TGC = str(world_data['trust_government_corruption'].loc[world_data['country'] == country])\n",
    "        TG = TGC.split()\n",
    "        T = TG[1]\n",
    "        \n",
    "        data['features'][i]['properties']['trust_government_corruption'] = float(T)\n",
    "        \n",
    "                \n",
    "        #add generosity\n",
    "        generosity = str(world_data['generosity'].loc[world_data['country'] == country])\n",
    "        gener = generosity.split()\n",
    "        gen = gener[1]\n",
    "        \n",
    "        data['features'][i]['properties']['generosity'] = float(gen)        \n",
    "    \n",
    "        \n",
    "    else:\n",
    "        print(f'{country} remove from geojson')\n",
    "    \n"
   ]
  },
  {
   "cell_type": "code",
   "execution_count": 12,
   "metadata": {},
   "outputs": [],
   "source": [
    "with open('new.geojson', 'w') as outfile:\n",
    "    json.dump(data, outfile)"
   ]
  },
  {
   "cell_type": "code",
   "execution_count": 10,
   "metadata": {},
   "outputs": [
    {
     "data": {
      "text/plain": [
       "['990', '57', 'Name:', 'happiness_rank,', 'dtype:', 'int64']"
      ]
     },
     "execution_count": 10,
     "metadata": {},
     "output_type": "execute_result"
    }
   ],
   "source": [
    "hapRank = str(yeardf['happiness_rank'].loc[yeardf['country'] == 'Argentina'])\n",
    "hapr = hapRank.split()\n",
    "rank = hapr[1]\n",
    "hapr"
   ]
  },
  {
   "cell_type": "code",
   "execution_count": 12,
   "metadata": {},
   "outputs": [
    {
     "data": {
      "text/plain": [
       "2.523"
      ]
     },
     "execution_count": 12,
     "metadata": {},
     "output_type": "execute_result"
    }
   ],
   "source": [
    "yeardf['happiness_score'].min()"
   ]
  },
  {
   "cell_type": "code",
   "execution_count": null,
   "metadata": {},
   "outputs": [],
   "source": [
    "yeardf['happiness_score'].max()"
   ]
  }
 ],
 "metadata": {
  "kernelspec": {
   "display_name": "Python 3",
   "language": "python",
   "name": "python3"
  },
  "language_info": {
   "codemirror_mode": {
    "name": "ipython",
    "version": 3
   },
   "file_extension": ".py",
   "mimetype": "text/x-python",
   "name": "python",
   "nbconvert_exporter": "python",
   "pygments_lexer": "ipython3",
   "version": "3.8.5"
  }
 },
 "nbformat": 4,
 "nbformat_minor": 4
}
